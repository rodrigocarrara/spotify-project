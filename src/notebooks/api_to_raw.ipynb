{
 "cells": [
  {
   "cell_type": "code",
   "execution_count": 2,
   "metadata": {},
   "outputs": [
    {
     "name": "stderr",
     "output_type": "stream",
     "text": [
      "c:\\Users\\rodri\\personal-projects\\spotify-project\\venv\\Lib\\site-packages\\dask\\dataframe\\__init__.py:42: FutureWarning: \n",
      "Dask dataframe query planning is disabled because dask-expr is not installed.\n",
      "\n",
      "You can install it with `pip install dask[dataframe]` or `conda install dask`.\n",
      "This will raise in a future version.\n",
      "\n",
      "  warnings.warn(msg, FutureWarning)\n"
     ]
    }
   ],
   "source": [
    "#Importando as bibliotecas necessárias\n",
    "import os\n",
    "import zipfile\n",
    "from dotenv import load_dotenv\n",
    "from kaggle.api.kaggle_api_extended import KaggleApi\n",
    "import pandas as pd\n",
    "import pyarrow as pv\n",
    "import fastparquet as pq\n",
    "import dask.dataframe as dd\n",
    "import polars as pl"
   ]
  },
  {
   "cell_type": "code",
   "execution_count": 3,
   "metadata": {},
   "outputs": [
    {
     "name": "stdout",
     "output_type": "stream",
     "text": [
      "Dataset URL: https://www.kaggle.com/datasets/sunnykakar/spotify-charts-all-audio-data\n"
     ]
    }
   ],
   "source": [
    "# Carrega variáveis de ambiente do arquivo .env\n",
    "load_dotenv()\n",
    "\n",
    "# Inicializa a API do Kaggle\n",
    "api = KaggleApi()\n",
    "api.authenticate()\n",
    "\n",
    "# Especifica o dataset a ser baixado. Use o nome do dataset no formato 'autor/dataset'\n",
    "dataset = 'sunnykakar/spotify-charts-all-audio-data'  # Exemplo de um dataset específico\n",
    "data_path = os.getenv('DATA_CSV_RAW_PATH')  # Obtém o caminho para a pasta onde os dados serão armazenados\n",
    "\n",
    "# Baixa o dataset para a pasta especificada\n",
    "api.dataset_download_files(dataset, path=data_path, unzip=True)"
   ]
  },
  {
   "cell_type": "code",
   "execution_count": 3,
   "metadata": {},
   "outputs": [],
   "source": [
    "load_dotenv()\n",
    "\n",
    "csv_path = os.getenv('CSV_RAW_PATH')\n",
    "parquet_path = os.getenv('PARQUET_RAW_PATH')\n",
    "data_folder = os.getenv('RAW_DATA_FOLDER')"
   ]
  },
  {
   "cell_type": "code",
   "execution_count": 4,
   "metadata": {},
   "outputs": [],
   "source": [
    "#funcao para obter informações de dados tipo csv ou parquet\n",
    "def get_data_info(data_path, data_type):\n",
    "\n",
    "    # Obten o tamanho do arquivo em MB\n",
    "    file_size_mb = os.path.getsize(data_path) / (1024 * 1024)\n",
    "    print(f\"Tamanho do arquivo: {file_size_mb:.2f} MB\")\n",
    "    \n",
    "    if data_type == 'csv': ddf = dd.read_csv(data_path)\n",
    "    elif data_type == 'parquet': ddf = dd.read_parquet(data_path)\n",
    "    else: print('Formato inválido')\n",
    "\n",
    "    # Obter o número de linhas e colunas\n",
    "    num_rows = ddf.shape[0].compute()\n",
    "    num_columns = ddf.shape[1]\n",
    "\n",
    "    print(f\"Quantidade de linhas: {num_rows}\")\n",
    "    print(f\"Quantidade de colunas: {num_columns}\")\n",
    "    "
   ]
  },
  {
   "cell_type": "code",
   "execution_count": 13,
   "metadata": {},
   "outputs": [
    {
     "name": "stdout",
     "output_type": "stream",
     "text": [
      "Tamanho do arquivo: 25848.48 MB\n",
      "Quantidade de linhas: 26174269\n",
      "Quantidade de colunas: 29\n"
     ]
    }
   ],
   "source": [
    "get_data_info(csv_path, 'csv')"
   ]
  },
  {
   "cell_type": "code",
   "execution_count": 7,
   "metadata": {},
   "outputs": [],
   "source": [
    "#Transformando o aquivo de csv para parquet\n",
    "\n",
    "def get_csv_to_parquet(csv_path, parquet_path, chunksize=10**6):\n",
    "    # Lê o CSV em chunks de 1 milhão de linhas por vez\n",
    "    chunks = pd.read_csv(csv_path, chunksize=chunksize, low_memory=True)\n",
    "    \n",
    "    # Itera sobre os chunks e escreve no formato Parquet\n",
    "    for i, chunk in enumerate(chunks):\n",
    "        # Escreve o primeiro chunk criando o arquivo\n",
    "        if i == 0:\n",
    "            chunk.to_parquet(parquet_path, engine='pyarrow', index=False)\n",
    "        else:\n",
    "            # Os chunks subsequentes são anexados ao arquivo Parquet existente\n",
    "            chunk.to_parquet(parquet_path, engine='pyarrow', index=False, append=True)\n",
    "    \n",
    "    print(\"Transformação Concluída\")"
   ]
  }
 ],
 "metadata": {
  "kernelspec": {
   "display_name": "venv",
   "language": "python",
   "name": "python3"
  },
  "language_info": {
   "codemirror_mode": {
    "name": "ipython",
    "version": 3
   },
   "file_extension": ".py",
   "mimetype": "text/x-python",
   "name": "python",
   "nbconvert_exporter": "python",
   "pygments_lexer": "ipython3",
   "version": "3.12.4"
  }
 },
 "nbformat": 4,
 "nbformat_minor": 2
}
